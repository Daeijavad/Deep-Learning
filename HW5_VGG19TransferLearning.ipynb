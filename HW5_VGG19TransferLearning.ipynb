{
  "nbformat": 4,
  "nbformat_minor": 0,
  "metadata": {
    "accelerator": "GPU",
    "colab": {
      "name": "Transfer_learning.ipynb",
      "provenance": [],
      "collapsed_sections": [],
      "toc_visible": true,
      "include_colab_link": true
    },
    "kernelspec": {
      "display_name": "Python 3",
      "language": "python",
      "name": "python3"
    },
    "language_info": {
      "codemirror_mode": {
        "name": "ipython",
        "version": 3
      },
      "file_extension": ".py",
      "mimetype": "text/x-python",
      "name": "python",
      "nbconvert_exporter": "python",
      "pygments_lexer": "ipython3",
      "version": "3.7.3"
    }
  },
  "cells": [
    {
      "cell_type": "markdown",
      "metadata": {
        "id": "view-in-github",
        "colab_type": "text"
      },
      "source": [
        "<a href=\"https://colab.research.google.com/github/Daeijavad/Deep-Learning/blob/main/HW5_VGG19TransferLearning.ipynb\" target=\"_parent\"><img src=\"https://colab.research.google.com/assets/colab-badge.svg\" alt=\"Open In Colab\"/></a>"
      ]
    },
    {
      "cell_type": "code",
      "metadata": {
        "colab": {
          "base_uri": "https://localhost:8080/",
          "height": 34
        },
        "id": "PzbdY1ifjTPS",
        "outputId": "8d5349d6-7449-4d31-b6d7-fbd5019172b2"
      },
      "source": [
        "from google.colab import drive\n",
        "drive.mount('/content/drive')"
      ],
      "execution_count": null,
      "outputs": [
        {
          "name": "stdout",
          "output_type": "stream",
          "text": [
            "Drive already mounted at /content/drive; to attempt to forcibly remount, call drive.mount(\"/content/drive\", force_remount=True).\n"
          ]
        }
      ]
    },
    {
      "cell_type": "markdown",
      "metadata": {
        "id": "MybWGLq-mOTM"
      },
      "source": [
        "# Convolutional Neural Networks\n",
        "\n",
        "Welcome to HomeWork 5 of the course! In this notebook, you will:\n",
        "\n",
        "- Implement a CNN model from the scratch for image classification.\n",
        "- Use a pretrained model and Transfer learning to solve above classification problem.\n",
        "\n",
        "As usual, we will start by loading the packages."
      ]
    },
    {
      "cell_type": "code",
      "metadata": {
        "id": "ZIcSWzAimOTO"
      },
      "source": [
        "import tarfile\n",
        "import numpy as np\n",
        "import pandas as pd\n",
        "import matplotlib.pyplot as plt\n",
        "%matplotlib inline\n",
        "np.random.seed(1)\n",
        "# Feel free to add pakages depending of your selected frame work. "
      ],
      "execution_count": null,
      "outputs": []
    },
    {
      "cell_type": "markdown",
      "metadata": {
        "id": "chx6Zx6xmOTR"
      },
      "source": [
        "Then, we load the dataset:"
      ]
    },
    {
      "cell_type": "code",
      "metadata": {
        "id": "2WPbkdZEmOTS"
      },
      "source": [
        "def load_dataset():\n",
        "    tf = tarfile.open(\"/content/drive/My Drive/Colab Notebooks/dataset.tar.gz\")\n",
        "    tf.extractall()\n",
        "    \n",
        "    train_dataset = pd.read_csv('data/train.csv')\n",
        "    test_dataset = pd.read_csv('data/test.csv')\n",
        "    \n",
        "    X_train = convert_x_data(train_dataset.values[:, 1])\n",
        "    X_test = convert_x_data(test_dataset.values[:, 1])\n",
        "    \n",
        "    Y_train = train_dataset.values[:, 0]\n",
        "    Y_test = test_dataset.values[:, 0]\n",
        "        \n",
        "    X_train = X_train.reshape((X_train.shape[0], 1, 48, 48))\n",
        "    X_test = X_test.reshape((X_test.shape[0], 1, 48, 48))\n",
        "    \n",
        "    return X_train, Y_train, X_test, Y_test\n",
        "\n",
        "def convert_x_data(X_data) :\n",
        "    x = np.zeros((X_data.shape[0], 48*48))\n",
        "    for ix in range(x.shape[0]):\n",
        "        p = X_data[ix].split(' ')\n",
        "        for iy in range(x.shape[1]):\n",
        "            x[ix, iy] = int(p[iy])\n",
        "    return x"
      ],
      "execution_count": null,
      "outputs": []
    },
    {
      "cell_type": "markdown",
      "metadata": {
        "id": "Fmhji2pKmOTV"
      },
      "source": [
        "Run the next cell to load the dataset you are going to use."
      ]
    },
    {
      "cell_type": "code",
      "metadata": {
        "id": "fEQ34HQLmOTW"
      },
      "source": [
        "# Loading the data\n",
        "X_train, Y_train, X_test, Y_test = load_dataset()"
      ],
      "execution_count": null,
      "outputs": []
    },
    {
      "cell_type": "markdown",
      "metadata": {
        "id": "aICAxVfumOTf"
      },
      "source": [
        "The next cell will show you an example of a labelled image in the dataset. Feel free to change the value of `index` below and re-run to see different examples. "
      ]
    },
    {
      "cell_type": "code",
      "metadata": {
        "colab": {
          "base_uri": "https://localhost:8080/",
          "height": 267
        },
        "id": "qd1FD5tgmOTf",
        "outputId": "84ca1209-dad8-4108-c81a-4e0ac49b8c43"
      },
      "source": [
        "ix = 2;\n",
        "plt.figure(ix)\n",
        "plt.imshow(X_train[ix].reshape((48, 48)), interpolation='none', cmap='gray')\n",
        "plt.show()"
      ],
      "execution_count": null,
      "outputs": [
        {
          "data": {
            "image/png": "[encoded data removed]",
            "text/plain": [
              "<Figure size 432x288 with 1 Axes>"
            ]
          },
          "metadata": {
            "tags": []
          },
          "output_type": "display_data"
        }
      ]
    },
    {
      "cell_type": "markdown",
      "metadata": {
        "id": "Bt6QUVpVmOTk"
      },
      "source": [
        "From now implemnt your model. After that use transfer learning.\n",
        "Please add cells and explain yours developing steps and your results."
      ]
    },
    {
      "cell_type": "markdown",
      "metadata": {
        "id": "73l5dOKBq0P8"
      },
      "source": [
        "# Model Architecture\n",
        "> we used VGG19 and after that we added 4 fully connected layers and a softmax layer\n",
        "\n",
        "\n",
        "*note: it's important to make the pretrained model, untrainable*\n",
        "\n",
        "in the model summary we see that the VGG19 parameters are non-trainable"
      ]
    },
    {
      "cell_type": "code",
      "metadata": {
        "colab": {
          "base_uri": "https://localhost:8080/",
          "height": 1000
        },
        "id": "BLojS5Gvjs2X",
        "outputId": "7827437f-6cf7-430c-bae6-2498740c3453"
      },
      "source": [
        "import keras\n",
        "from keras import Sequential\n",
        "from keras.layers import Flatten, Dense, BatchNormalization, Dropout\n",
        "\n",
        "model = Sequential()\n",
        "# load mobilenet model\n",
        "model.add(keras.applications.vgg19.VGG19(input_shape=(48, 48, 3), include_top=False, weights='imagenet'))\n",
        "\n",
        "# making mobilenet layer untrainable\n",
        "model.layers[0].trainable = False\n",
        "\n",
        "# add fully connected trainable layers\n",
        "model.add(Flatten())\n",
        "\n",
        "model.add(Dense(2048, activation='relu', kernel_initializer='random_uniform'))\n",
        "model.add(BatchNormalization())\n",
        "model.add(Dropout(0.4))\n",
        "\n",
        "model.add(Dense(512, activation='relu', kernel_initializer='random_uniform'))\n",
        "model.add(BatchNormalization())\n",
        "model.add(Dropout(0.4))\n",
        "\n",
        "model.add(Dense(128, activation='relu', kernel_initializer='random_uniform'))\n",
        "model.add(BatchNormalization())\n",
        "model.add(Dropout(0.4))\n",
        "\n",
        "model.add(Dense(32, activation='relu', kernel_initializer='random_uniform'))\n",
        "model.add(BatchNormalization())\n",
        "model.add(Dropout(0.4))\n",
        "\n",
        "model.add(Dense(7, activation='softmax'))\n",
        "\n",
        "model.summary()"
      ],
      "execution_count": null,
      "outputs": [
        {
          "name": "stderr",
          "output_type": "stream",
          "text": [
            "Using TensorFlow backend.\n"
          ]
        },
        {
          "data": {
            "text/html": [
              "<p style=\"color: red;\">\n",
              "The default version of TensorFlow in Colab will soon switch to TensorFlow 2.x.<br>\n",
              "We recommend you <a href=\"https://www.tensorflow.org/guide/migrate\" target=\"_blank\">upgrade</a> now \n",
              "or ensure your notebook will continue to use TensorFlow 1.x via the <code>%tensorflow_version 1.x</code> magic:\n",
              "<a href=\"https://colab.research.google.com/notebooks/tensorflow_version.ipynb\" target=\"_blank\">more info</a>.</p>\n"
            ],
            "text/plain": [
              "<IPython.core.display.HTML object>"
            ]
          },
          "metadata": {
            "tags": []
          },
          "output_type": "display_data"
        },
        {
          "name": "stdout",
          "output_type": "stream",
          "text": [
            "WARNING:tensorflow:From /usr/local/lib/python3.6/dist-packages/keras/backend/tensorflow_backend.py:66: The name tf.get_default_graph is deprecated. Please use tf.compat.v1.get_default_graph instead.\n",
            "\n",
            "WARNING:tensorflow:From /usr/local/lib/python3.6/dist-packages/keras/backend/tensorflow_backend.py:541: The name tf.placeholder is deprecated. Please use tf.compat.v1.placeholder instead.\n",
            "\n",
            "WARNING:tensorflow:From /usr/local/lib/python3.6/dist-packages/keras/backend/tensorflow_backend.py:4432: The name tf.random_uniform is deprecated. Please use tf.random.uniform instead.\n",
            "\n",
            "WARNING:tensorflow:From /usr/local/lib/python3.6/dist-packages/keras/backend/tensorflow_backend.py:4267: The name tf.nn.max_pool is deprecated. Please use tf.nn.max_pool2d instead.\n",
            "\n",
            "WARNING:tensorflow:From /usr/local/lib/python3.6/dist-packages/keras/backend/tensorflow_backend.py:190: The name tf.get_default_session is deprecated. Please use tf.compat.v1.get_default_session instead.\n",
            "\n",
            "WARNING:tensorflow:From /usr/local/lib/python3.6/dist-packages/keras/backend/tensorflow_backend.py:197: The name tf.ConfigProto is deprecated. Please use tf.compat.v1.ConfigProto instead.\n",
            "\n",
            "WARNING:tensorflow:From /usr/local/lib/python3.6/dist-packages/keras/backend/tensorflow_backend.py:203: The name tf.Session is deprecated. Please use tf.compat.v1.Session instead.\n",
            "\n",
            "WARNING:tensorflow:From /usr/local/lib/python3.6/dist-packages/keras/backend/tensorflow_backend.py:207: The name tf.global_variables is deprecated. Please use tf.compat.v1.global_variables instead.\n",
            "\n",
            "WARNING:tensorflow:From /usr/local/lib/python3.6/dist-packages/keras/backend/tensorflow_backend.py:216: The name tf.is_variable_initialized is deprecated. Please use tf.compat.v1.is_variable_initialized instead.\n",
            "\n",
            "WARNING:tensorflow:From /usr/local/lib/python3.6/dist-packages/keras/backend/tensorflow_backend.py:223: The name tf.variables_initializer is deprecated. Please use tf.compat.v1.variables_initializer instead.\n",
            "\n",
            "WARNING:tensorflow:From /usr/local/lib/python3.6/dist-packages/keras/backend/tensorflow_backend.py:148: The name tf.placeholder_with_default is deprecated. Please use tf.compat.v1.placeholder_with_default instead.\n",
            "\n",
            "WARNING:tensorflow:From /usr/local/lib/python3.6/dist-packages/keras/backend/tensorflow_backend.py:3733: calling dropout (from tensorflow.python.ops.nn_ops) with keep_prob is deprecated and will be removed in a future version.\n",
            "Instructions for updating:\n",
            "Please use `rate` instead of `keep_prob`. Rate should be set to `rate = 1 - keep_prob`.\n",
            "Model: \"sequential_1\"\n",
            "_________________________________________________________________\n",
            "Layer (type)                 Output Shape              Param #   \n",
            "=================================================================\n",
            "vgg19 (Model)                (None, 1, 1, 512)         20024384  \n",
            "_________________________________________________________________\n",
            "flatten_1 (Flatten)          (None, 512)               0         \n",
            "_________________________________________________________________\n",
            "dense_1 (Dense)              (None, 2048)              1050624   \n",
            "_________________________________________________________________\n",
            "batch_normalization_1 (Batch (None, 2048)              8192      \n",
            "_________________________________________________________________\n",
            "dropout_1 (Dropout)          (None, 2048)              0         \n",
            "_________________________________________________________________\n",
            "dense_2 (Dense)              (None, 512)               1049088   \n",
            "_________________________________________________________________\n",
            "batch_normalization_2 (Batch (None, 512)               2048      \n",
            "_________________________________________________________________\n",
            "dropout_2 (Dropout)          (None, 512)               0         \n",
            "_________________________________________________________________\n",
            "dense_3 (Dense)              (None, 128)               65664     \n",
            "_________________________________________________________________\n",
            "batch_normalization_3 (Batch (None, 128)               512       \n",
            "_________________________________________________________________\n",
            "dropout_3 (Dropout)          (None, 128)               0         \n",
            "_________________________________________________________________\n",
            "dense_4 (Dense)              (None, 32)                4128      \n",
            "_________________________________________________________________\n",
            "batch_normalization_4 (Batch (None, 32)                128       \n",
            "_________________________________________________________________\n",
            "dropout_4 (Dropout)          (None, 32)                0         \n",
            "_________________________________________________________________\n",
            "dense_5 (Dense)              (None, 7)                 231       \n",
            "=================================================================\n",
            "Total params: 22,204,999\n",
            "Trainable params: 2,175,175\n",
            "Non-trainable params: 20,029,824\n",
            "_________________________________________________________________\n"
          ]
        }
      ]
    },
    {
      "cell_type": "code",
      "metadata": {
        "colab": {
          "base_uri": "https://localhost:8080/",
          "height": 104
        },
        "id": "TO62POqoo6ME",
        "outputId": "c6d48fdd-1b00-4cdd-fa68-5a5e1b48947a"
      },
      "source": [
        "from keras.losses import categorical_crossentropy\n",
        "from keras.optimizers import Adam\n",
        "model.compile(loss=categorical_crossentropy,\n",
        "              optimizer=Adam(lr=0.001, beta_1=0.9, beta_2=0.999, epsilon=1e-7),\n",
        "              metrics=['accuracy'])"
      ],
      "execution_count": null,
      "outputs": [
        {
          "name": "stdout",
          "output_type": "stream",
          "text": [
            "WARNING:tensorflow:From /usr/local/lib/python3.6/dist-packages/keras/optimizers.py:793: The name tf.train.Optimizer is deprecated. Please use tf.compat.v1.train.Optimizer instead.\n",
            "\n",
            "WARNING:tensorflow:From /usr/local/lib/python3.6/dist-packages/keras/backend/tensorflow_backend.py:3576: The name tf.log is deprecated. Please use tf.math.log instead.\n",
            "\n"
          ]
        }
      ]
    },
    {
      "cell_type": "markdown",
      "metadata": {
        "id": "YOhqFeeGsFNo"
      },
      "source": [
        "# data preprocessing\n",
        "\n",
        "### first we normalize the data"
      ]
    },
    {
      "cell_type": "code",
      "metadata": {
        "id": "naL8r8yksEd9"
      },
      "source": [
        "_mean = np.mean(X_train, axis=0)\n",
        "_var  = np.std(X_train, axis=0)\n",
        "\n",
        "X_train = (X_train - _mean) / _var\n",
        "X_test = (X_test - _mean) / _var"
      ],
      "execution_count": null,
      "outputs": []
    },
    {
      "cell_type": "markdown",
      "metadata": {
        "id": "YHVN3hEGs6Hd"
      },
      "source": [
        "### second we make Y categorical"
      ]
    },
    {
      "cell_type": "code",
      "metadata": {
        "id": "OYNrcfB5tBsC"
      },
      "source": [
        "from keras.utils import to_categorical\n",
        "\n",
        "Y_train = to_categorical(Y_train)\n",
        "Y_test = to_categorical(Y_test)"
      ],
      "execution_count": null,
      "outputs": []
    },
    {
      "cell_type": "markdown",
      "metadata": {
        "id": "Al5saF9YtMns"
      },
      "source": [
        "### third we change grayscale data into RGB format"
      ]
    },
    {
      "cell_type": "code",
      "metadata": {
        "id": "MS3SbWHetM1I"
      },
      "source": [
        "X_train = np.repeat(X_train, 3, axis=1).reshape((X_train.shape[0], 48, 48,3))\n",
        "X_test  = np.repeat(X_test, 3, axis=1).reshape((X_test.shape[0], 48, 48,3))"
      ],
      "execution_count": null,
      "outputs": []
    },
    {
      "cell_type": "markdown",
      "metadata": {
        "id": "QMpGcb_AtyPP"
      },
      "source": [
        "# model fitting and plot"
      ]
    },
    {
      "cell_type": "code",
      "metadata": {
        "colab": {
          "base_uri": "https://localhost:8080/",
          "height": 1000
        },
        "id": "eYAdBfj9qwaS",
        "outputId": "2c14e06a-54a8-4083-d6e1-9866cb747e9e"
      },
      "source": [
        "history = model.fit(X_train, Y_train,\n",
        "          batch_size=256,\n",
        "          epochs=40,\n",
        "          verbose=1,\n",
        "          validation_data=(X_test, Y_test),\n",
        "          shuffle=True,\n",
        "          use_multiprocessing=True)"
      ],
      "execution_count": null,
      "outputs": [
        {
          "name": "stdout",
          "output_type": "stream",
          "text": [
            "WARNING:tensorflow:From /usr/local/lib/python3.6/dist-packages/tensorflow_core/python/ops/math_grad.py:1424: where (from tensorflow.python.ops.array_ops) is deprecated and will be removed in a future version.\n",
            "Instructions for updating:\n",
            "Use tf.where in 2.0, which has the same broadcast rule as np.where\n",
            "WARNING:tensorflow:From /usr/local/lib/python3.6/dist-packages/keras/backend/tensorflow_backend.py:1033: The name tf.assign_add is deprecated. Please use tf.compat.v1.assign_add instead.\n",
            "\n",
            "WARNING:tensorflow:From /usr/local/lib/python3.6/dist-packages/keras/backend/tensorflow_backend.py:1020: The name tf.assign is deprecated. Please use tf.compat.v1.assign instead.\n",
            "\n",
            "Train on 28709 samples, validate on 3588 samples\n",
            "Epoch 1/40\n",
            "28709/28709 [==============================] - 16s 547us/step - loss: 2.2488 - acc: 0.1862 - val_loss: 1.8750 - val_acc: 0.2497\n",
            "Epoch 2/40\n",
            "28709/28709 [==============================] - 11s 376us/step - loss: 1.9707 - acc: 0.2285 - val_loss: 1.8007 - val_acc: 0.2765\n",
            "Epoch 3/40\n",
            "28709/28709 [==============================] - 11s 377us/step - loss: 1.8754 - acc: 0.2495 - val_loss: 1.7723 - val_acc: 0.2832\n",
            "Epoch 4/40\n",
            "28709/28709 [==============================] - 11s 379us/step - loss: 1.8199 - acc: 0.2680 - val_loss: 1.7548 - val_acc: 0.2979\n",
            "Epoch 5/40\n",
            "28709/28709 [==============================] - 11s 381us/step - loss: 1.7894 - acc: 0.2786 - val_loss: 1.7285 - val_acc: 0.3027\n",
            "Epoch 6/40\n",
            "28709/28709 [==============================] - 11s 382us/step - loss: 1.7614 - acc: 0.2895 - val_loss: 1.7188 - val_acc: 0.3043\n",
            "Epoch 7/40\n",
            "28709/28709 [==============================] - 11s 382us/step - loss: 1.7415 - acc: 0.2967 - val_loss: 1.7176 - val_acc: 0.3110\n",
            "Epoch 8/40\n",
            "28709/28709 [==============================] - 11s 384us/step - loss: 1.7287 - acc: 0.3064 - val_loss: 1.7074 - val_acc: 0.3018\n",
            "Epoch 9/40\n",
            "28709/28709 [==============================] - 11s 383us/step - loss: 1.7181 - acc: 0.3086 - val_loss: 1.7028 - val_acc: 0.3177\n",
            "Epoch 10/40\n",
            "28709/28709 [==============================] - 11s 385us/step - loss: 1.7123 - acc: 0.3106 - val_loss: 1.6980 - val_acc: 0.3172\n",
            "Epoch 11/40\n",
            "28709/28709 [==============================] - 11s 383us/step - loss: 1.7019 - acc: 0.3162 - val_loss: 1.6946 - val_acc: 0.3138\n",
            "Epoch 12/40\n",
            "28709/28709 [==============================] - 11s 384us/step - loss: 1.6952 - acc: 0.3208 - val_loss: 1.7023 - val_acc: 0.3113\n",
            "Epoch 13/40\n",
            "28709/28709 [==============================] - 11s 384us/step - loss: 1.6872 - acc: 0.3216 - val_loss: 1.6887 - val_acc: 0.3241\n",
            "Epoch 14/40\n",
            "28709/28709 [==============================] - 11s 385us/step - loss: 1.6835 - acc: 0.3238 - val_loss: 1.6935 - val_acc: 0.3200\n",
            "Epoch 15/40\n",
            "28709/28709 [==============================] - 11s 386us/step - loss: 1.6764 - acc: 0.3313 - val_loss: 1.6897 - val_acc: 0.3200\n",
            "Epoch 16/40\n",
            "28709/28709 [==============================] - 11s 387us/step - loss: 1.6681 - acc: 0.3309 - val_loss: 1.6962 - val_acc: 0.3133\n",
            "Epoch 17/40\n",
            "28709/28709 [==============================] - 11s 387us/step - loss: 1.6711 - acc: 0.3358 - val_loss: 1.6941 - val_acc: 0.3194\n",
            "Epoch 18/40\n",
            "28709/28709 [==============================] - 11s 387us/step - loss: 1.6604 - acc: 0.3407 - val_loss: 1.6901 - val_acc: 0.3219\n",
            "Epoch 19/40\n",
            "28709/28709 [==============================] - 11s 390us/step - loss: 1.6567 - acc: 0.3406 - val_loss: 1.6836 - val_acc: 0.3236\n",
            "Epoch 20/40\n",
            "28709/28709 [==============================] - 11s 388us/step - loss: 1.6506 - acc: 0.3409 - val_loss: 1.6854 - val_acc: 0.3278\n",
            "Epoch 21/40\n",
            "28709/28709 [==============================] - 11s 389us/step - loss: 1.6470 - acc: 0.3465 - val_loss: 1.6799 - val_acc: 0.3314\n",
            "Epoch 22/40\n",
            "28709/28709 [==============================] - 11s 388us/step - loss: 1.6383 - acc: 0.3523 - val_loss: 1.6868 - val_acc: 0.3261\n",
            "Epoch 23/40\n",
            "28709/28709 [==============================] - 11s 389us/step - loss: 1.6343 - acc: 0.3527 - val_loss: 1.6775 - val_acc: 0.3289\n",
            "Epoch 24/40\n",
            "28709/28709 [==============================] - 11s 389us/step - loss: 1.6284 - acc: 0.3570 - val_loss: 1.6778 - val_acc: 0.3339\n",
            "Epoch 25/40\n",
            "28709/28709 [==============================] - 11s 388us/step - loss: 1.6228 - acc: 0.3616 - val_loss: 1.6833 - val_acc: 0.3328\n",
            "Epoch 26/40\n",
            "28709/28709 [==============================] - 11s 389us/step - loss: 1.6179 - acc: 0.3626 - val_loss: 1.6738 - val_acc: 0.3322\n",
            "Epoch 27/40\n",
            "28709/28709 [==============================] - 11s 387us/step - loss: 1.6154 - acc: 0.3649 - val_loss: 1.6811 - val_acc: 0.3347\n",
            "Epoch 28/40\n",
            "28709/28709 [==============================] - 11s 387us/step - loss: 1.6085 - acc: 0.3651 - val_loss: 1.6725 - val_acc: 0.3400\n",
            "Epoch 29/40\n",
            "28709/28709 [==============================] - 11s 388us/step - loss: 1.6072 - acc: 0.3641 - val_loss: 1.6760 - val_acc: 0.3266\n",
            "Epoch 30/40\n",
            "28709/28709 [==============================] - 11s 390us/step - loss: 1.5957 - acc: 0.3719 - val_loss: 1.6825 - val_acc: 0.3322\n",
            "Epoch 31/40\n",
            "28709/28709 [==============================] - 11s 389us/step - loss: 1.5899 - acc: 0.3759 - val_loss: 1.6793 - val_acc: 0.3294\n",
            "Epoch 32/40\n",
            "28709/28709 [==============================] - 11s 386us/step - loss: 1.5844 - acc: 0.3774 - val_loss: 1.6939 - val_acc: 0.3163\n",
            "Epoch 33/40\n",
            "28709/28709 [==============================] - 11s 390us/step - loss: 1.5793 - acc: 0.3829 - val_loss: 1.6889 - val_acc: 0.3308\n",
            "Epoch 34/40\n",
            "28709/28709 [==============================] - 11s 389us/step - loss: 1.5724 - acc: 0.3871 - val_loss: 1.6787 - val_acc: 0.3381\n",
            "Epoch 35/40\n",
            "28709/28709 [==============================] - 11s 385us/step - loss: 1.5619 - acc: 0.3931 - val_loss: 1.6956 - val_acc: 0.3356\n",
            "Epoch 36/40\n",
            "28709/28709 [==============================] - 11s 388us/step - loss: 1.5560 - acc: 0.3912 - val_loss: 1.6838 - val_acc: 0.3294\n",
            "Epoch 37/40\n",
            "28709/28709 [==============================] - 11s 388us/step - loss: 1.5523 - acc: 0.3984 - val_loss: 1.6704 - val_acc: 0.3392\n",
            "Epoch 38/40\n",
            "28709/28709 [==============================] - 11s 388us/step - loss: 1.5434 - acc: 0.4006 - val_loss: 1.6859 - val_acc: 0.3431\n",
            "Epoch 39/40\n",
            "28709/28709 [==============================] - 11s 387us/step - loss: 1.5376 - acc: 0.4027 - val_loss: 1.6743 - val_acc: 0.3406\n",
            "Epoch 40/40\n",
            "28709/28709 [==============================] - 11s 388us/step - loss: 1.5325 - acc: 0.4056 - val_loss: 1.6955 - val_acc: 0.3342\n"
          ]
        }
      ]
    },
    {
      "cell_type": "code",
      "metadata": {
        "colab": {
          "base_uri": "https://localhost:8080/",
          "height": 573
        },
        "id": "yOO56pvduRDU",
        "outputId": "71c15b43-75b4-474f-afec-76c19cf3c0ce"
      },
      "source": [
        "import matplotlib.pyplot as plt\n",
        "\n",
        "plt.plot(history.history['acc'])\n",
        "plt.plot(history.history['val_acc'])\n",
        "plt.title('Model accuracy')\n",
        "plt.ylabel('Accuracy')\n",
        "plt.xlabel('Epoch')\n",
        "plt.legend(['Train', 'Test'], loc='upper left')\n",
        "plt.show()\n",
        "\n",
        "\n",
        "plt.plot(history.history['loss'])\n",
        "plt.plot(history.history['val_loss'])\n",
        "plt.title('Model loss')\n",
        "plt.ylabel('Loss')\n",
        "plt.xlabel('Epoch')\n",
        "plt.legend(['Train', 'Test'], loc='upper left')\n",
        "plt.show()"
      ],
      "execution_count": null,
      "outputs": [
        {
          "data": {
            "image/png": "[encoded data removed]",
            "text/plain": [
              "<Figure size 432x288 with 1 Axes>"
            ]
          },
          "metadata": {
            "tags": []
          },
          "output_type": "display_data"
        },
        {
          "data": {
            "image/png": "[encoded data removed]",
            "text/plain": [
              "<Figure size 432x288 with 1 Axes>"
            ]
          },
          "metadata": {
            "tags": []
          },
          "output_type": "display_data"
        }
      ]
    }
  ]
}